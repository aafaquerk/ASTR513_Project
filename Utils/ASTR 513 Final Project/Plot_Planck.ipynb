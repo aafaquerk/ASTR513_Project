{
 "cells": [
  {
   "cell_type": "code",
   "execution_count": 1,
   "metadata": {},
   "outputs": [],
   "source": [
    "import numpy as np\n",
    "import matplotlib.pyplot as plt\n",
    "from matplotlib.patches import Ellipse\n",
    "import matplotlib.transforms as transforms\n",
    "import pandas as pd"
   ]
  },
  {
   "cell_type": "code",
   "execution_count": 2,
   "metadata": {},
   "outputs": [],
   "source": [
    "def confidence_ellipse(x, y, ax, n_std, facecolor, **kwargs):\n",
    "    \"\"\"\n",
    "    Create a plot of the covariance confidence ellipse of *x* and *y*.\n",
    "\n",
    "    Parameters\n",
    "    ----------\n",
    "    x, y : array-like, shape (n, )\n",
    "        Input data.\n",
    "\n",
    "    ax : matplotlib.axes.Axes\n",
    "        The axes object to draw the ellipse into.\n",
    "\n",
    "    n_std : float\n",
    "        The number of standard deviations to determine the ellipse's radiuses.\n",
    "\n",
    "    **kwargs\n",
    "        Forwarded to `~matplotlib.patches.Ellipse`\n",
    "\n",
    "    Returns\n",
    "    -------\n",
    "    matplotlib.patches.Ellipse\n",
    "    \"\"\"\n",
    "    if x.size != y.size:\n",
    "        raise ValueError(\"x and y must be the same size\")\n",
    "\n",
    "    cov = np.cov(x, y)\n",
    "    pearson = cov[0, 1]/np.sqrt(cov[0, 0] * cov[1, 1])\n",
    "    # Using a special case to obtain the eigenvalues of this\n",
    "    # two-dimensionl dataset.\n",
    "    ell_radius_x = np.sqrt(1 + pearson)\n",
    "    ell_radius_y = np.sqrt(1 - pearson)\n",
    "    ellipse = Ellipse((0, 0), width=ell_radius_x * 2, height=ell_radius_y * 2,\n",
    "                      facecolor=facecolor, **kwargs)\n",
    "\n",
    "    # Calculating the stdandard deviation of x from\n",
    "    # the squareroot of the variance and multiplying\n",
    "    # with the given number of standard deviations.\n",
    "    scale_x = np.sqrt(cov[0, 0]) * n_std\n",
    "    mean_x = np.mean(x)\n",
    "\n",
    "    # calculating the stdandard deviation of y ...\n",
    "    scale_y = np.sqrt(cov[1, 1]) * n_std\n",
    "    mean_y = np.mean(y)\n",
    "\n",
    "    transf = transforms.Affine2D() \\\n",
    "        .rotate_deg(45) \\\n",
    "        .scale(scale_x, scale_y) \\\n",
    "        .translate(mean_x, mean_y)\n",
    "\n",
    "    ellipse.set_transform(transf + ax.transData)\n",
    "    return ax.add_patch(ellipse)"
   ]
  },
  {
   "cell_type": "code",
   "execution_count": 17,
   "metadata": {},
   "outputs": [
    {
     "data": {
      "text/plain": [
       "['omegabh2',\n",
       " 'omegach2',\n",
       " 'theta',\n",
       " 'tau',\n",
       " 'logA',\n",
       " 'ns',\n",
       " 'calPlanck',\n",
       " 'acib217',\n",
       " 'xi',\n",
       " 'asz143',\n",
       " 'aps100',\n",
       " 'aps143',\n",
       " 'aps143217',\n",
       " 'aps217',\n",
       " 'aksz',\n",
       " 'kgal100',\n",
       " 'kgal143',\n",
       " 'kgal143217',\n",
       " 'kgal217',\n",
       " 'galfTE100',\n",
       " 'galfTE100143',\n",
       " 'galfTE100217',\n",
       " 'galfTE143',\n",
       " 'galfTE143217',\n",
       " 'galfTE217',\n",
       " 'cal0',\n",
       " 'cal2',\n",
       " 'H0*',\n",
       " 'omegal*',\n",
       " 'omegam*',\n",
       " 'omegamh2*',\n",
       " 'omegamh3*',\n",
       " 'sigma8*',\n",
       " 'S8*',\n",
       " 's8omegamp5*',\n",
       " 's8omegamp25*',\n",
       " 's8h5*',\n",
       " 'rdragh*',\n",
       " 'rmsdeflect*',\n",
       " 'zrei*',\n",
       " 'A*',\n",
       " 'clamp*',\n",
       " 'DL40*',\n",
       " 'DL220*',\n",
       " 'DL810*',\n",
       " 'DL1420*',\n",
       " 'DL2000*',\n",
       " 'ns02*',\n",
       " 'yheused*',\n",
       " 'YpBBN*',\n",
       " 'DHBBN*',\n",
       " 'age*',\n",
       " 'zstar*',\n",
       " 'rstar*',\n",
       " 'thetastar*',\n",
       " 'DAstar*',\n",
       " 'zdrag*',\n",
       " 'rdrag*',\n",
       " 'kd*',\n",
       " 'thetad*',\n",
       " 'zeq*',\n",
       " 'keq*',\n",
       " 'thetaeq*',\n",
       " 'thetarseq*',\n",
       " 'Hubble015*',\n",
       " 'DM015*',\n",
       " 'Hubble038*',\n",
       " 'DM038*',\n",
       " 'Hubble051*',\n",
       " 'DM051*',\n",
       " 'Hubble061*',\n",
       " 'DM061*',\n",
       " 'Hubble233*',\n",
       " 'DM233*',\n",
       " 'fsigma8z015*',\n",
       " 'sigma8z015*',\n",
       " 'fsigma8z038*',\n",
       " 'sigma8z038*',\n",
       " 'fsigma8z051*',\n",
       " 'sigma8z051*',\n",
       " 'fsigma8z061*',\n",
       " 'sigma8z061*',\n",
       " 'fsigma8z233*',\n",
       " 'sigma8z233*',\n",
       " 'f2000_143*',\n",
       " 'f2000_x*',\n",
       " 'f2000_217*',\n",
       " 'chi2_simall*',\n",
       " 'chi2_lowl*',\n",
       " 'chi2_plik*',\n",
       " 'chi2_6DF*',\n",
       " 'chi2_MGS*',\n",
       " 'chi2_DR12BAO*',\n",
       " 'chi2_prior*',\n",
       " 'chi2_BAO*',\n",
       " 'chi2_CMB*']"
      ]
     },
     "execution_count": 17,
     "metadata": {},
     "output_type": "execute_result"
    }
   ],
   "source": [
    "column_names"
   ]
  },
  {
   "cell_type": "code",
   "execution_count": 26,
   "metadata": {},
   "outputs": [],
   "source": [
    "# MCMC chain samples\n",
    "samples1 = np.loadtxt('/Users/hbowden/Downloads/COM_CosmoParams_base-plikHM-TTTEEE-lowl-lowE_R3.00/base/plikHM_TTTEEE_lowl_lowE/base_plikHM_TTTEEE_lowl_lowE_1.txt')\n",
    "samples2 = np.loadtxt('/Users/hbowden/Downloads/COM_CosmoParams_base-plikHM-TTTEEE-lowl-lowE_R3.00/base/plikHM_TTTEEE_lowl_lowE/base_plikHM_TTTEEE_lowl_lowE_2.txt')\n",
    "samples3 = np.loadtxt('/Users/hbowden/Downloads/COM_CosmoParams_base-plikHM-TTTEEE-lowl-lowE_R3.00/base/plikHM_TTTEEE_lowl_lowE/base_plikHM_TTTEEE_lowl_lowE_3.txt')\n",
    "\n",
    "# load the column names for the samples\n",
    "column_names_raw = np.loadtxt('/Users/hbowden/Downloads/COM_CosmoParams_base-plikHM-TTTEEE-lowl-lowE_R3.00/base/plikHM_TTTEEE_lowl_lowE/base_plikHM_TTTEEE_lowl_lowE.paramnames', dtype=np.str, usecols=[0])\n",
    "column_names = [x.replace(\"b'\",'').replace(\"'\",'') for x in column_names_raw]\n",
    "\n",
    "# make a data frame with column names and samples\n",
    "samples1_df = pd.DataFrame(samples1[:,2:], columns=column_names) # first two columns are not important\n",
    "samples2_df = pd.DataFrame(samples2[:,2:], columns=column_names)\n",
    "samples3_df = pd.DataFrame(samples3[:,2:], columns=column_names)"
   ]
  },
  {
   "cell_type": "code",
   "execution_count": 27,
   "metadata": {},
   "outputs": [],
   "source": [
    "w_m1 = np.array(samples1_df['omegam*'])\n",
    "H01 = np.array(samples1_df['H0*'])\n",
    "\n",
    "w_m2 = np.array(samples2_df['omegam*'])\n",
    "H02 = np.array(samples2_df['H0*'])\n",
    "\n",
    "w_m3 = np.array(samples3_df['omegam*'])\n",
    "H03 = np.array(samples3_df['H0*'])"
   ]
  },
  {
   "cell_type": "code",
   "execution_count": 31,
   "metadata": {},
   "outputs": [
    {
     "data": {
      "image/png": "[encoded data removed]",
      "text/plain": [
       "<Figure size 432x288 with 1 Axes>"
      ]
     },
     "metadata": {
      "needs_background": "light"
     },
     "output_type": "display_data"
    }
   ],
   "source": [
    "fig, ax = plt.subplots()\n",
    "ax.scatter(w_m,H0,s=2,alpha=0.0)\n",
    "a1 = confidence_ellipse(w_m1, H01, ax, n_std = 3., \n",
    "                   facecolor='darkgreen',edgecolor='darkgreen')\n",
    "b1 = confidence_ellipse(w_m1, H01, ax, n_std = 1., \n",
    "                   facecolor='limegreen',edgecolor='limegreen')\n",
    "\"\"\"\n",
    "a2 = confidence_ellipse(w_m2, H02, ax, n_std = 3., \n",
    "                   facecolor='None',edgecolor='darkred')\n",
    "b2 = confidence_ellipse(w_m2, H02, ax, n_std = 1., \n",
    "                   facecolor='red',edgecolor='red')\n",
    "\n",
    "a3 = confidence_ellipse(w_m3, H03, ax, n_std = 3., \n",
    "                   facecolor='None',edgecolor='darkblue')\n",
    "b3 = confidence_ellipse(w_m3, H03, ax, n_std = 1., \n",
    "                   facecolor='blue',edgecolor='blue')\"\"\"\n",
    "\n",
    "plt.show()"
   ]
  },
  {
   "cell_type": "code",
   "execution_count": 22,
   "metadata": {},
   "outputs": [],
   "source": [
    "# MCMC chain samples\n",
    "samples1 = np.loadtxt('/Users/hbowden/Downloads/COM_CosmoParams_base-plikHM-TTTEEE-lowl-lowE_R3.00/base/plikHM_TTTEEE_lowl_lowE_lensing/base_plikHM_TTTEEE_lowl_lowE_lensing_post_BAO_Pantheon_zre6p5_1.txt')\n",
    "samples2 = np.loadtxt('/Users/hbowden/Downloads/COM_CosmoParams_base-plikHM-TTTEEE-lowl-lowE_R3.00/base/plikHM_TTTEEE_lowl_lowE_lensing/base_plikHM_TTTEEE_lowl_lowE_lensing_post_BAO_Pantheon_zre6p5_2.txt')\n",
    "samples3 = np.loadtxt('/Users/hbowden/Downloads/COM_CosmoParams_base-plikHM-TTTEEE-lowl-lowE_R3.00/base/plikHM_TTTEEE_lowl_lowE_lensing/base_plikHM_TTTEEE_lowl_lowE_lensing_post_BAO_Pantheon_zre6p5_3.txt')\n",
    "\n",
    "# load the column names for the samples\n",
    "column_names_raw = np.loadtxt('/Users/hbowden/Downloads/COM_CosmoParams_base-plikHM-TTTEEE-lowl-lowE_R3.00/base/plikHM_TTTEEE_lowl_lowE_lensing/base_plikHM_TTTEEE_lowl_lowE_lensing_post_BAO_Pantheon_zre6p5.paramnames', dtype=np.str, usecols=[0])\n",
    "column_names = [x.replace(\"b'\",'').replace(\"'\",'') for x in column_names_raw]\n",
    "\n",
    "# make a data frame with column names and samples\n",
    "samples1_df = pd.DataFrame(samples[:,2:], columns=column_names) # first two columns are not important"
   ]
  },
  {
   "cell_type": "code",
   "execution_count": 23,
   "metadata": {},
   "outputs": [],
   "source": [
    "w_m = np.array(samples1['omegam*'])\n",
    "H0 = np.array(samples1['H0*'])"
   ]
  },
  {
   "cell_type": "code",
   "execution_count": 24,
   "metadata": {},
   "outputs": [
    {
     "data": {
      "image/png": "[encoded data removed]",
      "text/plain": [
       "<Figure size 432x288 with 1 Axes>"
      ]
     },
     "metadata": {
      "needs_background": "light"
     },
     "output_type": "display_data"
    }
   ],
   "source": [
    "fig, ax = plt.subplots()\n",
    "ax.scatter(w_m,H0,s=2,alpha=0.0)\n",
    "a = confidence_ellipse(w_m, H0, ax, n_std = 3., \n",
    "                   facecolor='darkgreen',edgecolor='darkgreen')\n",
    "b = confidence_ellipse(w_m, H0, ax, n_std = 1., \n",
    "                   facecolor='limegreen',edgecolor='limegreen')\n",
    "plt.show()"
   ]
  },
  {
   "cell_type": "code",
   "execution_count": null,
   "metadata": {},
   "outputs": [],
   "source": []
  }
 ],
 "metadata": {
  "kernelspec": {
   "display_name": "Python 3",
   "language": "python",
   "name": "python3"
  },
  "language_info": {
   "codemirror_mode": {
    "name": "ipython",
    "version": 3
   },
   "file_extension": ".py",
   "mimetype": "text/x-python",
   "name": "python",
   "nbconvert_exporter": "python",
   "pygments_lexer": "ipython3",
   "version": "3.6.10"
  },
  "toc": {
   "base_numbering": 1,
   "nav_menu": {},
   "number_sections": true,
   "sideBar": true,
   "skip_h1_title": false,
   "title_cell": "Table of Contents",
   "title_sidebar": "Contents",
   "toc_cell": false,
   "toc_position": {},
   "toc_section_display": true,
   "toc_window_display": false
  }
 },
 "nbformat": 4,
 "nbformat_minor": 4
}
